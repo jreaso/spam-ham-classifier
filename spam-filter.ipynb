{
 "cells": [
  {
   "cell_type": "markdown",
   "id": "02d1ed24-1111-4548-a144-06c2ae7bcf88",
   "metadata": {},
   "source": [
    "# Spam Filter"
   ]
  },
  {
   "cell_type": "code",
   "execution_count": 1,
   "id": "68b85e71-bbbd-4643-9318-0c02f62fc43f",
   "metadata": {},
   "outputs": [],
   "source": [
    "import numpy as np\n",
    "import pandas as pd\n",
    "\n",
    "#plotting\n",
    "import seaborn as sns\n",
    "import matplotlib.pyplot as plt\n",
    "\n",
    "#downloading tar files\n",
    "import tarfile\n",
    "from pathlib import Path\n",
    "import urllib.request\n",
    "\n",
    "#emails\n",
    "import email\n",
    "import email.policy\n",
    "\n",
    "#parsing HTML\n",
    "from bs4 import BeautifulSoup\n",
    "from html import unescape\n",
    "\n",
    "#processing data\n",
    "import nltk\n",
    "from nltk.corpus import stopwords\n",
    "import urlextract\n",
    "from collections import Counter\n",
    "import re\n",
    "\n",
    "#sparse matrix\n",
    "from scipy.sparse import csr_matrix\n",
    "\n",
    "#train/test split\n",
    "from sklearn.model_selection import train_test_split\n",
    "\n",
    "#transformers and pipelines\n",
    "from sklearn.base import BaseEstimator, TransformerMixin\n",
    "from sklearn.pipeline import Pipeline\n",
    "\n",
    "#models\n",
    "from sklearn.linear_model import LogisticRegression\n",
    "from sklearn.svm import SVC\n",
    "from sklearn.ensemble import RandomForestClassifier\n",
    "from xgboost import XGBClassifier\n",
    "\n",
    "#model Selection\n",
    "from sklearn.model_selection import cross_val_score\n",
    "\n",
    "#parameter tuning\n",
    "from scipy.stats import randint\n",
    "from sklearn.model_selection import RandomizedSearchCV\n",
    "from sklearn.base import clone\n",
    "from sklearn.model_selection import GridSearchCV\n",
    "\n",
    "#classification metrics\n",
    "from sklearn.metrics import f1_score, precision_score, recall_score, confusion_matrix"
   ]
  },
  {
   "cell_type": "code",
   "execution_count": 2,
   "id": "b6039f95-706b-4b32-adb5-1fac1b88a1ac",
   "metadata": {},
   "outputs": [
    {
     "name": "stderr",
     "output_type": "stream",
     "text": [
      "[nltk_data] Downloading package stopwords to\n",
      "[nltk_data]     /Users/jamiereason/nltk_data...\n",
      "[nltk_data]   Package stopwords is already up-to-date!\n"
     ]
    },
    {
     "data": {
      "text/plain": [
       "True"
      ]
     },
     "execution_count": 2,
     "metadata": {},
     "output_type": "execute_result"
    }
   ],
   "source": [
    "#Download stop_words data\n",
    "nltk.download('stopwords')"
   ]
  },
  {
   "cell_type": "markdown",
   "id": "d76c0d6b-d7a3-49e8-8394-7bd68c01d2a4",
   "metadata": {},
   "source": [
    "## Loading Data\n",
    "\n",
    "We load in `20030228_easy_ham`, `20030228_easy_ham_2`, `20030228_hard_ham`, `20030228_spam` and `20030228_spam_2` from [spamassassin.apache.org/old/publiccorpus/](https://spamassassin.apache.org/old/publiccorpus/) which is a combined 4150 ham emails and 1897 spam emails with a variety of difficulty."
   ]
  },
  {
   "cell_type": "code",
   "execution_count": 3,
   "id": "c2b4100c-76fb-4348-913b-bd8aaa611ac7",
   "metadata": {},
   "outputs": [],
   "source": [
    "def fetch_spam_data():\n",
    "    spam_root = \"http://spamassassin.apache.org/old/publiccorpus/\"\n",
    "                 \n",
    "    files = ((\"easy_ham\", \"20030228_easy_ham\"),\n",
    "             (\"easy_ham_2\", \"20030228_easy_ham_2\"), \n",
    "             (\"hard_ham\", \"20030228_hard_ham\"),\n",
    "             (\"spam\", \"20030228_spam\"),\n",
    "             (\"spam_2\", \"20030228_spam_2\"))\n",
    "    \n",
    "    spam_path = Path() / \"spam-data\"\n",
    "    spam_path.mkdir(parents=True, exist_ok=True)\n",
    "                 \n",
    "    for name, filename in files:\n",
    "        url = spam_root + filename + \".tar.bz2\"\n",
    "        \n",
    "        if not (spam_path / name).is_dir():\n",
    "            path = (spam_path / name).with_suffix(\".tar.bz2\")\n",
    "            print(\"Downloading\", url, \"to\", path)\n",
    "            urllib.request.urlretrieve(url, path)\n",
    "            tar_bz2_file = tarfile.open(path)\n",
    "            tar_bz2_file.extractall(path=spam_path)\n",
    "            tar_bz2_file.close()\n",
    "    return [spam_path / name for name in [f[0] for f in files]]"
   ]
  },
  {
   "cell_type": "code",
   "execution_count": 4,
   "id": "eadca333-1ce5-4c1f-9db1-2c7cc9c6f7b0",
   "metadata": {},
   "outputs": [],
   "source": [
    "def get_emails(dirs):\n",
    "    emails = []\n",
    "    for d in dirs:\n",
    "        filenames = [f for f in sorted(d.iterdir()) if len(f.name) > 20]\n",
    "        for filepath in filenames:\n",
    "            with open(filepath, \"rb\") as f:\n",
    "                emails.append(email.parser.BytesParser(policy=email.policy.default).parse(f))\n",
    "    \n",
    "    return emails"
   ]
  },
  {
   "cell_type": "code",
   "execution_count": 5,
   "id": "1178fd49-e2b8-4b13-821e-fec401d35af5",
   "metadata": {},
   "outputs": [
    {
     "name": "stdout",
     "output_type": "stream",
     "text": [
      "Downloading http://spamassassin.apache.org/old/publiccorpus/20030228_easy_ham.tar.bz2 to spam-data/easy_ham.tar.bz2\n",
      "Downloading http://spamassassin.apache.org/old/publiccorpus/20030228_easy_ham_2.tar.bz2 to spam-data/easy_ham_2.tar.bz2\n",
      "Downloading http://spamassassin.apache.org/old/publiccorpus/20030228_hard_ham.tar.bz2 to spam-data/hard_ham.tar.bz2\n",
      "Downloading http://spamassassin.apache.org/old/publiccorpus/20030228_spam.tar.bz2 to spam-data/spam.tar.bz2\n",
      "Downloading http://spamassassin.apache.org/old/publiccorpus/20030228_spam_2.tar.bz2 to spam-data/spam_2.tar.bz2\n"
     ]
    }
   ],
   "source": [
    "dirs = fetch_spam_data()\n",
    "\n",
    "ham_emails = get_emails(dirs[:3])\n",
    "spam_emails = get_emails(dirs[3:])"
   ]
  },
  {
   "cell_type": "markdown",
   "id": "87aa7110-3cca-436b-a4a0-2c28ef4c6489",
   "metadata": {},
   "source": [
    "### Train/Test Split"
   ]
  },
  {
   "cell_type": "code",
   "execution_count": 6,
   "id": "0b19464b-8685-49f4-a310-918ff0180048",
   "metadata": {},
   "outputs": [],
   "source": [
    "X = np.array(ham_emails + spam_emails, dtype=object)\n",
    "y = np.array([0] * len(ham_emails) + [1] * len(spam_emails))\n",
    "\n",
    "X_train, X_test, y_train, y_test = train_test_split(X, y, test_size=0.2, random_state=93)"
   ]
  },
  {
   "cell_type": "markdown",
   "id": "0e5270ff-c098-443d-a753-0ba9b27bb3d3",
   "metadata": {},
   "source": [
    "## Preprocessing Pipeline\n",
    "\n",
    "### Parsing Emails Structure\n",
    "\n",
    "We create a function which iterates through the parts of an email and returns the plain text from any plain text or html (parsed with beautiful soup) parts."
   ]
  },
  {
   "cell_type": "code",
   "execution_count": 7,
   "id": "e864a2d5-7d69-4489-9ee4-cb40cbbd7e17",
   "metadata": {},
   "outputs": [],
   "source": [
    "def email_to_text(email):\n",
    "    for part in email.walk():\n",
    "        ctype = part.get_content_type()\n",
    "        if not ctype in (\"text/plain\", \"text/html\"):\n",
    "            continue\n",
    "        try:\n",
    "            content = part.get_content()\n",
    "        except:\n",
    "            content = str(part.get_payload())\n",
    "        if ctype == \"text/plain\":\n",
    "            return content\n",
    "        else:\n",
    "            soup = BeautifulSoup(content, 'html.parser')\n",
    "            text = soup.get_text(separator='\\n', strip=True)\n",
    "            return unescape(text)"
   ]
  },
  {
   "cell_type": "markdown",
   "id": "744e09f6-1656-42c4-afb1-d29298b3aa1e",
   "metadata": {},
   "source": [
    "#### Viewing email object details"
   ]
  },
  {
   "cell_type": "code",
   "execution_count": 8,
   "id": "d7deec55-ffae-42d5-b9d6-c69d0e968979",
   "metadata": {},
   "outputs": [],
   "source": [
    "def email_info(email, spam):\n",
    "    print(\"\\033[1mSpam:\\033[0m\", bool(spam))\n",
    "    print(\"\\033[1mHas HTML:\\033[0m\", any(part.get_content_type() == \"text/html\" for part in email.walk()))\n",
    "    print(\"\\033[1mFrom:\\033[0m\", email[\"From\"])\n",
    "    print(\"\\033[1mSubject:\\033[0m\", email[\"Subject\"])\n",
    "    print(\"\\u2594\" * 120)\n",
    "    print(email_to_text(email))"
   ]
  },
  {
   "cell_type": "code",
   "execution_count": 9,
   "id": "e1cafbac-9c69-4eec-ab88-3031e33823f7",
   "metadata": {},
   "outputs": [
    {
     "name": "stdout",
     "output_type": "stream",
     "text": [
      "\u001b[1mSpam:\u001b[0m True\n",
      "\u001b[1mHas HTML:\u001b[0m False\n",
      "\u001b[1mFrom:\u001b[0m fort@bluemail.dk\n",
      "\u001b[1mSubject:\u001b[0m FORTUNE 500 COMPANY HIRING, AT HOME REPS.\n",
      "▔▔▔▔▔▔▔▔▔▔▔▔▔▔▔▔▔▔▔▔▔▔▔▔▔▔▔▔▔▔▔▔▔▔▔▔▔▔▔▔▔▔▔▔▔▔▔▔▔▔▔▔▔▔▔▔▔▔▔▔▔▔▔▔▔▔▔▔▔▔▔▔▔▔▔▔▔▔▔▔▔▔▔▔▔▔▔▔▔▔▔▔▔▔▔▔▔▔▔▔▔▔▔▔▔▔▔▔▔▔▔▔▔▔▔▔▔▔▔▔\n",
      "Help wanted.  We are a 14 year old fortune 500 company, that is\n",
      "growing at a tremendous rate.  We are looking for individuals who\n",
      "want to work from home.\n",
      "\n",
      "This is an opportunity to make an excellent income.  No experience\n",
      "is required.  We will train you.\n",
      "\n",
      "So if you are looking to be employed from home with a career that has\n",
      "vast opportunities, then go:\n",
      "\n",
      "http://www.basetel.com/wealthnow\n",
      "\n",
      "We are looking for energetic and self motivated people.  If that is you\n",
      "than click on the link and fill out the form, and one of our\n",
      "employement specialist will contact you.\n",
      "\n",
      "To be removed from our link simple go to:\n",
      "\n",
      "http://www.basetel.com/remove.html\n",
      "\n",
      "\n",
      "4139vOLW7-758DoDY1425FRhM1-764SMFc8513fCsLl40\n",
      "\n",
      "\n"
     ]
    }
   ],
   "source": [
    "email_info(X[4156], y[4156])"
   ]
  },
  {
   "cell_type": "markdown",
   "id": "974a6e5d-b13a-4601-a1f0-5d8f9de5cbf5",
   "metadata": {},
   "source": [
    "### Custom Transformers"
   ]
  },
  {
   "cell_type": "code",
   "execution_count": 10,
   "id": "59e5d9ad-deaa-4432-9f49-2355246b9d81",
   "metadata": {},
   "outputs": [],
   "source": [
    "url_extractor = urlextract.URLExtract()\n",
    "stemmer = nltk.PorterStemmer()\n",
    "stop_words = set(stopwords.words('english'))"
   ]
  },
  {
   "cell_type": "code",
   "execution_count": 11,
   "id": "728b76c8-7014-4e7a-8e90-12bf473dbe87",
   "metadata": {},
   "outputs": [],
   "source": [
    "class EmailToWordCounterTransformer(BaseEstimator, TransformerMixin):\n",
    "    def __init__(self, strip_headers=True, lower_case=True, remove_punctuation=True,\n",
    "                 replace_urls=True, replace_numbers=True, remove_stop_words=True, stemming=True):\n",
    "        self.strip_headers = strip_headers\n",
    "        self.lower_case = lower_case\n",
    "        self.remove_punctuation = remove_punctuation\n",
    "        self.replace_urls = replace_urls\n",
    "        self.replace_numbers = replace_numbers\n",
    "        self.remove_stop_words = remove_stop_words\n",
    "        self.stemming = stemming\n",
    "        \n",
    "    def fit(self, X, y=None):\n",
    "        return self\n",
    "    \n",
    "    def transform(self, X, y=None):\n",
    "        X_transformed = []\n",
    "        \n",
    "        for email in X:\n",
    "            text = email_to_text(email) or \"\"\n",
    "            \n",
    "            #Lower Case\n",
    "            if self.lower_case:\n",
    "                text = text.lower()\n",
    "                \n",
    "            #Replace URLs\n",
    "            if self.replace_urls and url_extractor is not None:\n",
    "                urls = list(set(url_extractor.find_urls(text)))\n",
    "                urls.sort(key=lambda url: len(url), reverse=True)\n",
    "                for url in urls:\n",
    "                    text = text.replace(url, \" URL \")\n",
    "            \n",
    "            #Replace Numbers\n",
    "            if self.replace_numbers:\n",
    "                text = re.sub(r'\\d+(?:\\.\\d*)?(?:[eE][+-]?\\d+)?', 'NUMBER', text)\n",
    "            \n",
    "            #Remove Punctuation and Underscores\n",
    "            if self.remove_punctuation:\n",
    "                text = re.sub(r'\\W+', ' ', text, flags=re.M)\n",
    "                text = re.sub(r'_+', ' ', text, flags=re.M)\n",
    "            \n",
    "            #Count Words\n",
    "            word_counts = Counter(text.split())\n",
    "            \n",
    "            #Remove Stop Words\n",
    "            if self.remove_stop_words:\n",
    "                for word in list(word_counts.keys()):\n",
    "                    if word.lower() in stop_words:\n",
    "                        del word_counts[word]\n",
    "            \n",
    "            #Stemming\n",
    "            if self.stemming and stemmer is not None:\n",
    "                stemmed_word_counts = Counter()\n",
    "                for word, count in word_counts.items():\n",
    "                    stemmed_word = stemmer.stem(word)\n",
    "                    stemmed_word_counts[stemmed_word] += count\n",
    "                word_counts = stemmed_word_counts\n",
    "            \n",
    "            X_transformed.append(word_counts)\n",
    "            \n",
    "        return np.array(X_transformed)"
   ]
  },
  {
   "cell_type": "code",
   "execution_count": 12,
   "id": "33587d2d-28fc-4a5e-8905-507c804fefdb",
   "metadata": {},
   "outputs": [],
   "source": [
    "class WordCounterToVectorTransformer(BaseEstimator, TransformerMixin):\n",
    "    def __init__(self, vocabulary_size=1000, word_count_threshold=10):\n",
    "        self.vocabulary_size = vocabulary_size\n",
    "        self.word_count_threshold = word_count_threshold\n",
    "        \n",
    "    def fit(self, X, y=None):\n",
    "        total_count = Counter()\n",
    "        for word_count in X:\n",
    "            for word, count in word_count.items():\n",
    "                total_count[word] += min(count, self.word_count_threshold)\n",
    "        most_common = total_count.most_common()[:self.vocabulary_size]\n",
    "        \n",
    "        self.vocabulary_ = {word: index + 1\n",
    "                            for index, (word, count) in enumerate(most_common)}\n",
    "        return self\n",
    "    \n",
    "    def transform(self, X, y=None):\n",
    "        rows = []\n",
    "        cols = []\n",
    "        data = []\n",
    "        for row, word_count in enumerate(X):\n",
    "            for word, count in word_count.items():\n",
    "                rows.append(row)\n",
    "                cols.append(self.vocabulary_.get(word, 0))\n",
    "                data.append(count)\n",
    "                \n",
    "        return csr_matrix((data, (rows, cols)), shape=(len(X), self.vocabulary_size + 1))"
   ]
  },
  {
   "cell_type": "markdown",
   "id": "dc661d05-200b-47b2-a868-bffcce4d33b6",
   "metadata": {},
   "source": [
    "### Pipeline"
   ]
  },
  {
   "cell_type": "code",
   "execution_count": 13,
   "id": "7da3d020-597b-476d-b839-d6c6442beb7d",
   "metadata": {},
   "outputs": [],
   "source": [
    "preprocessing_pipeline = Pipeline([\n",
    "    ('word_counter', EmailToWordCounterTransformer()),\n",
    "    ('vectorizer', WordCounterToVectorTransformer())\n",
    "])"
   ]
  },
  {
   "cell_type": "markdown",
   "id": "a459db27-96ee-481e-81a6-ff0cf33cc5b9",
   "metadata": {},
   "source": [
    "## Choosing a Model"
   ]
  },
  {
   "cell_type": "code",
   "execution_count": 14,
   "id": "014918b4-30f1-4b1f-b6b2-329abbdf2412",
   "metadata": {},
   "outputs": [],
   "source": [
    "#Transform training data\n",
    "X_train_transformed = preprocessing_pipeline.fit_transform(X_train)"
   ]
  },
  {
   "cell_type": "code",
   "execution_count": 15,
   "id": "4a0f7f2a-72d1-4025-97fa-bfbebff79969",
   "metadata": {},
   "outputs": [],
   "source": [
    "model_cv_scores = {}"
   ]
  },
  {
   "cell_type": "markdown",
   "id": "a15887e3-8d3e-4d36-849c-e77a63c89819",
   "metadata": {},
   "source": [
    "### Logistic Regression"
   ]
  },
  {
   "cell_type": "code",
   "execution_count": 16,
   "id": "df1db3a8-94bc-4cde-a8a3-a0aeb054da80",
   "metadata": {},
   "outputs": [],
   "source": [
    "lr_clf = LogisticRegression(max_iter=1000, random_state=93)\n",
    "model_cv_scores[\"Logistic Regression\"] = cross_val_score(lr_clf, X_train_transformed, y_train, cv=10)"
   ]
  },
  {
   "cell_type": "markdown",
   "id": "5e0c1255-b705-4b18-bf40-53e3a60d3a7e",
   "metadata": {},
   "source": [
    "### Random Forest"
   ]
  },
  {
   "cell_type": "code",
   "execution_count": 17,
   "id": "a52ea532-5505-4143-a7b2-87246daec456",
   "metadata": {},
   "outputs": [],
   "source": [
    "rf_clf = RandomForestClassifier(random_state=93)\n",
    "model_cv_scores[\"Random Forest\"] = cross_val_score(rf_clf, X_train_transformed, y_train, cv=10)"
   ]
  },
  {
   "cell_type": "markdown",
   "id": "5b4e6633-be50-42a6-a8e8-181ec9d42343",
   "metadata": {},
   "source": [
    "### XG Boost"
   ]
  },
  {
   "cell_type": "code",
   "execution_count": 18,
   "id": "2d0e31fd-a886-4aa9-a357-6f44d0d00a9e",
   "metadata": {},
   "outputs": [],
   "source": [
    "xgb_clf = XGBClassifier(random_state=93)\n",
    "model_cv_scores[\"XGB\"] = cross_val_score(xgb_clf, X_train_transformed, y_train, cv=10)"
   ]
  },
  {
   "cell_type": "markdown",
   "id": "5a9f6f68-0fb6-4696-bd56-1b4d73a92d97",
   "metadata": {},
   "source": [
    "### Comparing Untuned Models"
   ]
  },
  {
   "cell_type": "code",
   "execution_count": 19,
   "id": "28919ca6-3aca-4fe0-b0cb-1680ba2f9352",
   "metadata": {},
   "outputs": [
    {
     "data": {
      "image/png": "[encoded data removed]",
      "text/plain": [
       "<Figure size 1000x500 with 1 Axes>"
      ]
     },
     "metadata": {},
     "output_type": "display_data"
    }
   ],
   "source": [
    "sns.set(style=\"whitegrid\")\n",
    "plt.figure(figsize=(10, 5))\n",
    "\n",
    "sns.boxplot(data = pd.DataFrame(model_cv_scores))\n",
    "plt.xlabel(\"Model\")\n",
    "plt.ylabel(\"Accuracy\")\n",
    "plt.title(\"Model 10-Fold CV Accuracy\")\n",
    "plt.show()"
   ]
  },
  {
   "cell_type": "markdown",
   "id": "38c5a027-bc99-4023-8268-48b9a010bb57",
   "metadata": {},
   "source": [
    "It seems that the `RandomForestClassifier` is the most promising model to tune."
   ]
  },
  {
   "cell_type": "markdown",
   "id": "04747db3-67cf-4cef-82ec-b0e2eb4b3114",
   "metadata": {},
   "source": [
    "## Model Tuning"
   ]
  },
  {
   "cell_type": "code",
   "execution_count": 20,
   "id": "a825a40c-2158-4bb2-9212-223ce0c4da34",
   "metadata": {},
   "outputs": [],
   "source": [
    "full_pipeline = Pipeline([\n",
    "    ('preprocessing_pipeline', preprocessing_pipeline),\n",
    "    ('rf_model', RandomForestClassifier(random_state=93))\n",
    "])"
   ]
  },
  {
   "cell_type": "code",
   "execution_count": 21,
   "id": "a8266151-5a44-4392-95d5-a4db98de8d21",
   "metadata": {},
   "outputs": [],
   "source": [
    "cv_accuracy = {'Untuned': model_cv_scores[\"Random Forest\"]}"
   ]
  },
  {
   "cell_type": "markdown",
   "id": "7b16e4d5-b480-4343-95a3-e67eb9ee457a",
   "metadata": {},
   "source": [
    "### Tuning on Subset\n",
    "\n",
    "Take a smaller subset of the data for initial tuning:"
   ]
  },
  {
   "cell_type": "code",
   "execution_count": 22,
   "id": "0a760339-d628-4022-aca5-42dff90c875e",
   "metadata": {},
   "outputs": [],
   "source": [
    "spam_indices = np.where(y_train == 1)[0]\n",
    "ham_indices = np.where(y_train == 0)[0]\n",
    "\n",
    "subset_size = 600\n",
    "subset_size_spam = int(subset_size * len(spam_indices) / len(y_train))\n",
    "subset_size_ham = subset_size - subset_size_spam\n",
    "\n",
    "spam_indices_subset = np.random.choice(spam_indices, subset_size_spam, replace=False)\n",
    "ham_indices_subset = np.random.choice(ham_indices, subset_size_ham, replace=False)\n",
    "\n",
    "subset_indices = np.concatenate((spam_indices_subset, ham_indices_subset))\n",
    "X_train_subset = X_train[subset_indices]\n",
    "y_train_subset = y_train[subset_indices]"
   ]
  },
  {
   "cell_type": "code",
   "execution_count": 23,
   "id": "d4c5e4e7-f6d0-4a5a-9dd3-f81a6f61fa64",
   "metadata": {},
   "outputs": [],
   "source": [
    "param_dist = {\n",
    "    'preprocessing_pipeline__word_counter__remove_stop_words': [True, False],\n",
    "    'preprocessing_pipeline__word_counter__stemming': [True, False],\n",
    "    'preprocessing_pipeline__vectorizer__vocabulary_size': randint(100, 2000),\n",
    "    'preprocessing_pipeline__vectorizer__word_count_threshold': randint(5, 20),\n",
    "    'rf_model__criterion': [\"gini\", \"entropy\"],\n",
    "    'rf_model__max_features': [\"sqrt\", \"log2\"],\n",
    "    'rf_model__n_estimators': randint(10, 400),\n",
    "    'rf_model__max_depth': [None, 10, 20, 30],\n",
    "}"
   ]
  },
  {
   "cell_type": "markdown",
   "id": "e1c7f074-3b32-4e5c-a8d7-98edf6bc3981",
   "metadata": {},
   "source": [
    "**Warning:** The following cell takes a while to run."
   ]
  },
  {
   "cell_type": "code",
   "execution_count": 24,
   "id": "9bee9304-4a6d-4971-a595-2fe5de0dfed2",
   "metadata": {},
   "outputs": [
    {
     "data": {
      "text/plain": [
       "RandomizedSearchCV(cv=3,\n",
       "                   estimator=Pipeline(steps=[('preprocessing_pipeline',\n",
       "                                              Pipeline(steps=[('word_counter',\n",
       "                                                               EmailToWordCounterTransformer()),\n",
       "                                                              ('vectorizer',\n",
       "                                                               WordCounterToVectorTransformer())])),\n",
       "                                             ('rf_model',\n",
       "                                              RandomForestClassifier(random_state=93))]),\n",
       "                   n_iter=200, n_jobs=-1,\n",
       "                   param_distributions={'preprocessing_pipeline__vectorizer__vocabulary_size': <scipy....\n",
       "                                        'preprocessing_pipeline__word_counter__remove_stop_words': [True,\n",
       "                                                                                                    False],\n",
       "                                        'preprocessing_pipeline__word_counter__stemming': [True,\n",
       "                                                                                           False],\n",
       "                                        'rf_model__criterion': ['gini',\n",
       "                                                                'entropy'],\n",
       "                                        'rf_model__max_depth': [None, 10, 20,\n",
       "                                                                30],\n",
       "                                        'rf_model__max_features': ['sqrt',\n",
       "                                                                   'log2'],\n",
       "                                        'rf_model__n_estimators': <scipy.stats._distn_infrastructure.rv_discrete_frozen object at 0x7feba7a98e80>},\n",
       "                   random_state=93, scoring='accuracy')"
      ]
     },
     "execution_count": 24,
     "metadata": {},
     "output_type": "execute_result"
    }
   ],
   "source": [
    "random_search = RandomizedSearchCV(\n",
    "    estimator = full_pipeline,\n",
    "    param_distributions = param_dist,\n",
    "    n_iter = 200,\n",
    "    cv = 3,\n",
    "    scoring = 'accuracy',\n",
    "    random_state = 93,\n",
    "    n_jobs = -1,\n",
    ")\n",
    "\n",
    "random_search.fit(X_train_subset, y_train_subset)"
   ]
  },
  {
   "cell_type": "code",
   "execution_count": 25,
   "id": "88e4ca5a-26a2-4740-99ce-27f7f9f999ad",
   "metadata": {},
   "outputs": [
    {
     "data": {
      "text/plain": [
       "{'preprocessing_pipeline__vectorizer__vocabulary_size': 1673,\n",
       " 'preprocessing_pipeline__vectorizer__word_count_threshold': 17,\n",
       " 'preprocessing_pipeline__word_counter__remove_stop_words': False,\n",
       " 'preprocessing_pipeline__word_counter__stemming': False,\n",
       " 'rf_model__criterion': 'entropy',\n",
       " 'rf_model__max_depth': None,\n",
       " 'rf_model__max_features': 'log2',\n",
       " 'rf_model__n_estimators': 262}"
      ]
     },
     "execution_count": 25,
     "metadata": {},
     "output_type": "execute_result"
    }
   ],
   "source": [
    "random_search.best_params_"
   ]
  },
  {
   "cell_type": "code",
   "execution_count": 26,
   "id": "3bf0e400-ce17-4787-adca-720648bc9d9a",
   "metadata": {},
   "outputs": [],
   "source": [
    "random_search_model = clone(random_search.best_estimator_)"
   ]
  },
  {
   "cell_type": "code",
   "execution_count": 27,
   "id": "37767ba3-ae19-4fa8-9cfd-90dc9930164e",
   "metadata": {},
   "outputs": [],
   "source": [
    "cv_accuracy['Subset Tuning'] = cross_val_score(random_search_model, X_train, y_train,\n",
    "                                               cv=10, scoring='accuracy', n_jobs=-1)"
   ]
  },
  {
   "cell_type": "code",
   "execution_count": 28,
   "id": "2b87e046-a155-427f-85ff-ea581524b1ac",
   "metadata": {},
   "outputs": [
    {
     "name": "stdout",
     "output_type": "stream",
     "text": [
      "Accuracy: 0.9735357527847646\n"
     ]
    }
   ],
   "source": [
    "print(\"Accuracy:\", cv_accuracy['Subset Tuning'].mean())"
   ]
  },
  {
   "cell_type": "markdown",
   "id": "f36d76aa-18e6-43c4-a51b-faf305ac196a",
   "metadata": {},
   "source": [
    "### Fine-Tuning on Full Training Set"
   ]
  },
  {
   "cell_type": "code",
   "execution_count": 29,
   "id": "7c0a486c-51b8-4f5b-a607-6d8bfc25b1e1",
   "metadata": {},
   "outputs": [],
   "source": [
    "param_grid = {\n",
    "    'preprocessing_pipeline__vectorizer__vocabulary_size': [1250, 1400, 1500, 1600, 1750],\n",
    "    'preprocessing_pipeline__vectorizer__word_count_threshold': [6, 7, 8, 9, 10],\n",
    "    'preprocessing_pipeline__word_counter__remove_stop_words': [True],\n",
    "    'preprocessing_pipeline__word_counter__stemming': [True, False],\n",
    "    'rf_model__criterion': ['entropy'],\n",
    "    'rf_model__max_depth': [None],\n",
    "    'rf_model__max_features': ['auto', 'log2'],\n",
    "    'rf_model__n_estimators': [100, 130, 160]\n",
    "}"
   ]
  },
  {
   "cell_type": "code",
   "execution_count": 30,
   "id": "a294bb5b-27ca-4e6b-b05f-bff38309a5db",
   "metadata": {},
   "outputs": [
    {
     "data": {
      "text/plain": [
       "GridSearchCV(cv=3,\n",
       "             estimator=Pipeline(steps=[('preprocessing_pipeline',\n",
       "                                        Pipeline(steps=[('word_counter',\n",
       "                                                         EmailToWordCounterTransformer()),\n",
       "                                                        ('vectorizer',\n",
       "                                                         WordCounterToVectorTransformer())])),\n",
       "                                       ('rf_model',\n",
       "                                        RandomForestClassifier(random_state=93))]),\n",
       "             n_jobs=-1,\n",
       "             param_grid={'preprocessing_pipeline__vectorizer__vocabulary_size': [1250,\n",
       "                                                                                 1400,\n",
       "                                                                                 1500,\n",
       "                                                                                 1600,\n",
       "                                                                                 1750],\n",
       "                         'prepr...ng_pipeline__vectorizer__word_count_threshold': [6,\n",
       "                                                                                      7,\n",
       "                                                                                      8,\n",
       "                                                                                      9,\n",
       "                                                                                      10],\n",
       "                         'preprocessing_pipeline__word_counter__remove_stop_words': [True],\n",
       "                         'preprocessing_pipeline__word_counter__stemming': [True,\n",
       "                                                                            False],\n",
       "                         'rf_model__criterion': ['entropy'],\n",
       "                         'rf_model__max_depth': [None],\n",
       "                         'rf_model__max_features': ['auto', 'log2'],\n",
       "                         'rf_model__n_estimators': [100, 130, 160]},\n",
       "             scoring='accuracy')"
      ]
     },
     "execution_count": 30,
     "metadata": {},
     "output_type": "execute_result"
    }
   ],
   "source": [
    "grid_search = GridSearchCV(\n",
    "    estimator = full_pipeline,\n",
    "    param_grid = param_grid,\n",
    "    cv = 3,\n",
    "    scoring = 'accuracy',\n",
    "    n_jobs = -1,\n",
    ")\n",
    "\n",
    "grid_search.fit(X_train_subset, y_train_subset)"
   ]
  },
  {
   "cell_type": "code",
   "execution_count": 31,
   "id": "110e676f-892e-4d41-a6d8-5331f75f5e5a",
   "metadata": {},
   "outputs": [
    {
     "data": {
      "text/plain": [
       "{'preprocessing_pipeline__vectorizer__vocabulary_size': 1500,\n",
       " 'preprocessing_pipeline__vectorizer__word_count_threshold': 8,\n",
       " 'preprocessing_pipeline__word_counter__remove_stop_words': True,\n",
       " 'preprocessing_pipeline__word_counter__stemming': False,\n",
       " 'rf_model__criterion': 'entropy',\n",
       " 'rf_model__max_depth': None,\n",
       " 'rf_model__max_features': 'log2',\n",
       " 'rf_model__n_estimators': 100}"
      ]
     },
     "execution_count": 31,
     "metadata": {},
     "output_type": "execute_result"
    }
   ],
   "source": [
    "grid_search.best_params_"
   ]
  },
  {
   "cell_type": "markdown",
   "id": "85d3cde4-02c5-4865-9a57-75f925cfe5cd",
   "metadata": {},
   "source": [
    "Some of the tuned hyperparameters were on the edge so we do a final grid search with an expanded search area for only boundary values."
   ]
  },
  {
   "cell_type": "code",
   "execution_count": 32,
   "id": "dcde288f-3f4f-4685-98d8-6a2a87daea3a",
   "metadata": {},
   "outputs": [],
   "source": [
    "param_grid = {\n",
    "    'preprocessing_pipeline__vectorizer__vocabulary_size': [800, 900, 1000, 1100, 1200, 1300],\n",
    "    'preprocessing_pipeline__vectorizer__word_count_threshold': [10, 11, 12, 13],\n",
    "    'preprocessing_pipeline__word_counter__remove_stop_words': [True],\n",
    "    'preprocessing_pipeline__word_counter__stemming': [True, False],\n",
    "    'rf_model__criterion': ['entropy'],\n",
    "    'rf_model__max_depth': [None],\n",
    "    'rf_model__max_features': ['log2'],\n",
    "    'rf_model__n_estimators': [160, 180, 200]\n",
    "}"
   ]
  },
  {
   "cell_type": "code",
   "execution_count": 33,
   "id": "541c07c7-80a5-4642-8286-2496aea21235",
   "metadata": {},
   "outputs": [
    {
     "data": {
      "text/plain": [
       "GridSearchCV(cv=3,\n",
       "             estimator=Pipeline(steps=[('preprocessing_pipeline',\n",
       "                                        Pipeline(steps=[('word_counter',\n",
       "                                                         EmailToWordCounterTransformer()),\n",
       "                                                        ('vectorizer',\n",
       "                                                         WordCounterToVectorTransformer())])),\n",
       "                                       ('rf_model',\n",
       "                                        RandomForestClassifier(random_state=93))]),\n",
       "             n_jobs=-1,\n",
       "             param_grid={'preprocessing_pipeline__vectorizer__vocabulary_size': [800,\n",
       "                                                                                 900,\n",
       "                                                                                 1000,\n",
       "                                                                                 1100,\n",
       "                                                                                 1200,\n",
       "                                                                                 1300],\n",
       "                         'preprocessing_pipeline__vectorizer__word_count_threshold': [10,\n",
       "                                                                                      11,\n",
       "                                                                                      12,\n",
       "                                                                                      13],\n",
       "                         'preprocessing_pipeline__word_counter__remove_stop_words': [True],\n",
       "                         'preprocessing_pipeline__word_counter__stemming': [True,\n",
       "                                                                            False],\n",
       "                         'rf_model__criterion': ['entropy'],\n",
       "                         'rf_model__max_depth': [None],\n",
       "                         'rf_model__max_features': ['log2'],\n",
       "                         'rf_model__n_estimators': [160, 180, 200]},\n",
       "             scoring='accuracy')"
      ]
     },
     "execution_count": 33,
     "metadata": {},
     "output_type": "execute_result"
    }
   ],
   "source": [
    "grid_search = GridSearchCV(\n",
    "    estimator = full_pipeline,\n",
    "    param_grid = param_grid,\n",
    "    cv = 3,\n",
    "    scoring = 'accuracy',\n",
    "    n_jobs = -1,\n",
    ")\n",
    "\n",
    "grid_search.fit(X_train_subset, y_train_subset)"
   ]
  },
  {
   "cell_type": "code",
   "execution_count": 34,
   "id": "5f8c2bf0-3313-4c82-a2a7-d00c96fce5fe",
   "metadata": {},
   "outputs": [
    {
     "data": {
      "text/plain": [
       "{'preprocessing_pipeline__vectorizer__vocabulary_size': 1000,\n",
       " 'preprocessing_pipeline__vectorizer__word_count_threshold': 13,\n",
       " 'preprocessing_pipeline__word_counter__remove_stop_words': True,\n",
       " 'preprocessing_pipeline__word_counter__stemming': False,\n",
       " 'rf_model__criterion': 'entropy',\n",
       " 'rf_model__max_depth': None,\n",
       " 'rf_model__max_features': 'log2',\n",
       " 'rf_model__n_estimators': 180}"
      ]
     },
     "execution_count": 34,
     "metadata": {},
     "output_type": "execute_result"
    }
   ],
   "source": [
    "grid_search.best_params_"
   ]
  },
  {
   "cell_type": "markdown",
   "id": "4c8b6752-4566-40fd-b063-17d93d6fbc05",
   "metadata": {},
   "source": [
    "There are some hyperparameters that are tuned to edge cases again, but these were the edges in the opposite direction for the previous grid search so we are happy we have found relatively optimal hyperparameters."
   ]
  },
  {
   "cell_type": "code",
   "execution_count": 35,
   "id": "ffeaf133-5733-46e2-874e-bf6a6c77884b",
   "metadata": {},
   "outputs": [],
   "source": [
    "best_estimator = grid_search.best_estimator_"
   ]
  },
  {
   "cell_type": "markdown",
   "id": "9e4bc2ea-b14f-4c4a-a915-a7684b99fd78",
   "metadata": {},
   "source": [
    "### Analysis of Final Model Performance"
   ]
  },
  {
   "cell_type": "code",
   "execution_count": 36,
   "id": "24362427-9bdd-4737-a282-eb894d66022f",
   "metadata": {},
   "outputs": [],
   "source": [
    "cv_accuracy['Best Estimator'] = cross_val_score(best_estimator, X_train, y_train,\n",
    "                                                cv=10, scoring='accuracy', n_jobs=-1)"
   ]
  },
  {
   "cell_type": "code",
   "execution_count": 37,
   "id": "02859300-5f95-40c5-9f8e-d3f6bf864d11",
   "metadata": {},
   "outputs": [
    {
     "data": {
      "image/png": "[encoded data removed]",
      "text/plain": [
       "<Figure size 1000x500 with 1 Axes>"
      ]
     },
     "metadata": {},
     "output_type": "display_data"
    }
   ],
   "source": [
    "sns.set(style=\"whitegrid\")\n",
    "plt.figure(figsize=(10, 5))\n",
    "\n",
    "sns.boxplot(data = pd.DataFrame(cv_accuracy))\n",
    "plt.xlabel(\"Model\")\n",
    "plt.ylabel(\"Accuracy\")\n",
    "plt.title(\"The Effect of Tuning on 10-Fold CV Accuracy\")\n",
    "plt.show()"
   ]
  },
  {
   "cell_type": "markdown",
   "id": "05e94305-926e-4f96-99b3-8d992729ba13",
   "metadata": {},
   "source": [
    "Interestingly, whilst the best estimator did have the highest mean accuracy and does look like the most promising model, it also has a the smallest accuracy in one of its folds (_except for an outlier in the Untuned model_) and the untuned model has the highest."
   ]
  },
  {
   "cell_type": "markdown",
   "id": "3015ebcd-3a15-43b7-b784-92eddbf4557f",
   "metadata": {},
   "source": [
    "## Test Set Predictions"
   ]
  },
  {
   "cell_type": "code",
   "execution_count": 38,
   "id": "d35f9363-ac7a-44c4-a7bb-51dc68a7bdaf",
   "metadata": {},
   "outputs": [],
   "source": [
    "y_pred = best_estimator.predict(X_test)"
   ]
  },
  {
   "cell_type": "markdown",
   "id": "87cc8a13-aa88-42df-b816-82b1f957a8e9",
   "metadata": {},
   "source": [
    "### $F_1$ Score, Precision and Recall"
   ]
  },
  {
   "cell_type": "code",
   "execution_count": 39,
   "id": "a52f34e1-1cf6-472c-81eb-de568e5fe323",
   "metadata": {},
   "outputs": [
    {
     "name": "stdout",
     "output_type": "stream",
     "text": [
      "F1 Score: 91.35%\n",
      "Precision: 92.15%\n",
      "Recall: 90.57%\n"
     ]
    }
   ],
   "source": [
    "print(f\"F1 Score: {f1_score(y_test, y_pred):.2%}\")\n",
    "print(f\"Precision: {precision_score(y_test, y_pred):.2%}\")\n",
    "print(f\"Recall: {recall_score(y_test, y_pred):.2%}\")"
   ]
  },
  {
   "cell_type": "code",
   "execution_count": 40,
   "id": "100528b4-e7f6-4716-9e81-daba486aa463",
   "metadata": {},
   "outputs": [
    {
     "data": {
      "image/png": "[encoded data removed]",
      "text/plain": [
       "<Figure size 800x600 with 2 Axes>"
      ]
     },
     "metadata": {},
     "output_type": "display_data"
    }
   ],
   "source": [
    "cm = confusion_matrix(y_test, y_pred, labels=[0, 1])\n",
    "\n",
    "# Plot the confusion matrix using Seaborn\n",
    "plt.figure(figsize=(8, 6))\n",
    "sns.heatmap(cm, annot=True, fmt=\"d\", cmap=\"Blues\", xticklabels=[\"Ham\", \"Spam\"], yticklabels=[\"Ham\", \"Spam\"])\n",
    "plt.xlabel(\"Predicted\")\n",
    "plt.ylabel(\"Actual\")\n",
    "plt.title(\"Test Set Predictions CM\")\n",
    "plt.show()"
   ]
  }
 ],
 "metadata": {
  "kernelspec": {
   "display_name": "Python 3 (ipykernel)",
   "language": "python",
   "name": "python3"
  },
  "language_info": {
   "codemirror_mode": {
    "name": "ipython",
    "version": 3
   },
   "file_extension": ".py",
   "mimetype": "text/x-python",
   "name": "python",
   "nbconvert_exporter": "python",
   "pygments_lexer": "ipython3",
   "version": "3.9.13"
  }
 },
 "nbformat": 4,
 "nbformat_minor": 5
}
